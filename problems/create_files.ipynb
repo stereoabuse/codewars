{
 "cells": [
  {
   "cell_type": "code",
   "execution_count": 73,
   "metadata": {},
   "outputs": [],
   "source": [
    "import re\n",
    "import string\n",
    "from bs4 import BeautifulSoup"
   ]
  },
  {
   "cell_type": "code",
   "execution_count": 111,
   "metadata": {},
   "outputs": [],
   "source": [
    "completed = open('completed2.html', encoding='utf-8').read()\n",
    "soup = BeautifulSoup(completed)"
   ]
  },
  {
   "cell_type": "code",
   "execution_count": 129,
   "metadata": {},
   "outputs": [],
   "source": [
    "problems = soup.find_all('div', {'class':'list-item solutions'})\n",
    "for prob in problems:\n",
    "    code = prob.find('code').text\n",
    "    title = prob.find('a').text\n",
    "    title_link = prob.find('a')\n",
    "    url = 'https://www.codewars.com/'+title_link['href']\n",
    "    filename = f\"{title.translate(str.maketrans('', '', string.punctuation)).replace(' ', '_').lower()}.py\"\n",
    "    kyu = prob.find('span').text\n",
    "    with open(filename, 'w', encoding='utf-8') as f:\n",
    "        f.write(f'##  {title}\\n')\n",
    "        f.write(f'##  {kyu}\\n')\n",
    "        f.write(f'##  {url}\\n\\n\\n')\n",
    "        f.write(code)\n",
    "print('finished')"
   ]
  },
  {
   "cell_type": "code",
   "execution_count": null,
   "metadata": {},
   "outputs": [],
   "source": []
  }
 ],
 "metadata": {
  "kernelspec": {
   "display_name": "Python 3",
   "language": "python",
   "name": "python3"
  },
  "language_info": {
   "codemirror_mode": {
    "name": "ipython",
    "version": 3
   },
   "file_extension": ".py",
   "mimetype": "text/x-python",
   "name": "python",
   "nbconvert_exporter": "python",
   "pygments_lexer": "ipython3",
   "version": "3.8.1"
  }
 },
 "nbformat": 4,
 "nbformat_minor": 4
}
